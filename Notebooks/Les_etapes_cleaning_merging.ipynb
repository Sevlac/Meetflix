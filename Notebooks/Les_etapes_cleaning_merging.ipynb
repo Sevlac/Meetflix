{
 "cells": [
  {
   "cell_type": "code",
   "execution_count": 1,
   "metadata": {},
   "outputs": [],
   "source": [
    "import pandas as pd\n",
    "import numpy as np"
   ]
  },
  {
   "cell_type": "markdown",
   "metadata": {},
   "source": [
    "Episode 1 : **LE CLEANING**"
   ]
  },
  {
   "cell_type": "markdown",
   "metadata": {},
   "source": [
    "Import de l'ensemble des datas, puis netoyage de celles-ci. On applique certains filtres, supression de colonnes non nécéssaires et des colonnes déja filtrées."
   ]
  },
  {
   "cell_type": "code",
   "execution_count": null,
   "metadata": {},
   "outputs": [],
   "source": [
    "#import IMDB_title_ratings\n",
    "df_title_ratings = pd.read_csv('https://datasets.imdbws.com/title.ratings.tsv.gz', sep='\\t', compression='gzip')"
   ]
  },
  {
   "cell_type": "code",
   "execution_count": null,
   "metadata": {},
   "outputs": [],
   "source": [
    "#import IMDB_name_basics\n",
    "df_name_basics = pd.read_csv('https://datasets.imdbws.com/name.basics.tsv.gz', sep='\\t', compression='gzip')"
   ]
  },
  {
   "cell_type": "code",
   "execution_count": null,
   "metadata": {},
   "outputs": [],
   "source": [
    "#import IMDB_title_basics\n",
    "url_imdb_title_basics = \"https://datasets.imdbws.com/title.basics.tsv.gz\"\n",
    "df_imdb_title_basics = pd.read_csv(url_imdb_title_basics, sep='\\t', compression='gzip')\n",
    "\n",
    "#Le cleaning\n",
    "df_imdb_title_basics = df_imdb_title_basics[(df_imdb_title_basics['titleType'] == 'movie') & \n",
    "                                            (df_imdb_title_basics['vote_average'] > 5)]\n",
    "\n",
    "df_imdb_title_basics = df_imdb_title_basics[df_imdb_title_basics['isAdult'] == 0]\n",
    "df_imdb_title_basics = df_imdb_title_basics[df_imdb_title_basics['startYear'] > 1950]\n",
    "df_imdb_title_basics.drop(['isAdult', 'endYear', 'primaryTitle'], axis=1, inplace=True)\n",
    "df_imdb_title_basics\n"
   ]
  },
  {
   "cell_type": "code",
   "execution_count": null,
   "metadata": {},
   "outputs": [],
   "source": [
    "#import IMDB_title_akas\n",
    "url_imdb_title_akas = \"https://datasets.imdbws.com/title.akas.tsv.gz\"\n",
    "df_imdb_title_akas = pd.read_csv(url_imdb_title_akas, sep='\\t', compression='gzip')\n",
    "\n",
    "#Le cleaning\n",
    "df_imdb_title_akas = df_imdb_title_akas[df_imdb_title_akas['region'] == 'FR']\n",
    "df_imdb_title_akas.drop(['ordering', 'language', 'types', 'attributes', 'isOriginalTitle', 'region'], axis=1, inplace=True)\n",
    "df_imdb_title_akas"
   ]
  },
  {
   "cell_type": "code",
   "execution_count": null,
   "metadata": {},
   "outputs": [],
   "source": [
    "#import IMDB_title_principals\n",
    "url_imdb_title_principals = \"https://datasets.imdbws.com/title.principals.tsv.gz\"\n",
    "df_imdb_title_principals = pd.read_csv(url_imdb_title_principals, sep='\\t', compression='gzip')\n",
    "\n",
    "#Le cleaning\n",
    "df_imdb_title_principals = df_imdb_title_principals[df_imdb_title_principals['ordering'] < 10]\n",
    "df_imdb_title_principals.drop(['job', 'ordering'], axis=1, inplace=True)\n"
   ]
  },
  {
   "cell_type": "markdown",
   "metadata": {},
   "source": [
    "Episode 2 : **LE MERGING**"
   ]
  },
  {
   "cell_type": "markdown",
   "metadata": {},
   "source": [
    "Ici on fusionne les tables une à une. D'abord sur ce qui concerne les infos sur les films, puis qui concerne les \"crew\". Enfin, on rassemble toutes les infos des \"crew\" dans un dictionnaire pour l'ajouter dans une colonne de la table film. Ainsi chaque film dispose d'une colonne avec l'ensemble des infos sur le crew du film."
   ]
  },
  {
   "cell_type": "code",
   "execution_count": null,
   "metadata": {},
   "outputs": [],
   "source": [
    "# merge de title_basisc et akas\n",
    "df_bascisakas = pd.merge(\n",
    "    df_imdb_title_basics,\n",
    "    df_imdb_title_akas,\n",
    "    left_on='Tconst',\n",
    "    right_on='titleId',\n",
    "    how='inner' \n",
    ")"
   ]
  },
  {
   "cell_type": "code",
   "execution_count": null,
   "metadata": {},
   "outputs": [],
   "source": [
    "#Merge df_basicsakas avec ratings\n",
    "df_basicsakasratings = pd.merge(\n",
    "    df_bascisakas,\n",
    "    df_title_ratings,\n",
    "    on='Tconst', \n",
    "    how='inner'  \n",
    ")"
   ]
  },
  {
   "cell_type": "code",
   "execution_count": null,
   "metadata": {},
   "outputs": [],
   "source": [
    "#Merge name_basics avec titles_principals\n",
    "df_basicsprincipals = pd.merge(\n",
    "    df_imdb_title_principals,\n",
    "    df_name_basics\n",
    "    on='nconst',  \n",
    "    how='inner'  \n",
    ")"
   ]
  },
  {
   "cell_type": "markdown",
   "metadata": {},
   "source": [
    "Episode 3 : **LA CONSOLIDATION**"
   ]
  },
  {
   "cell_type": "code",
   "execution_count": null,
   "metadata": {},
   "outputs": [],
   "source": [
    "#création d'un dictionnaire avec les infos de df_basicsprincipals\n",
    "grouped_crew = df_basicsprincipals.groupby('titleId').apply(\n",
    "    lambda x: x.to_dict(orient='records')\n",
    ").to_dict()"
   ]
  },
  {
   "cell_type": "code",
   "execution_count": null,
   "metadata": {},
   "outputs": [],
   "source": [
    "#Ajout d'une nouvelle colonne dans df_basicsakasratings\n",
    "df_basicsakasratings['crew_details'] = df_basicsakasratings['Tconst'].map(grouped_crew)"
   ]
  },
  {
   "cell_type": "code",
   "execution_count": null,
   "metadata": {},
   "outputs": [],
   "source": [
    "#On renomme en df_final\n",
    "df_final = df_basicsakasratings"
   ]
  }
 ],
 "metadata": {
  "kernelspec": {
   "display_name": "base",
   "language": "python",
   "name": "python3"
  },
  "language_info": {
   "codemirror_mode": {
    "name": "ipython",
    "version": 3
   },
   "file_extension": ".py",
   "mimetype": "text/x-python",
   "name": "python",
   "nbconvert_exporter": "python",
   "pygments_lexer": "ipython3",
   "version": "3.12.7"
  }
 },
 "nbformat": 4,
 "nbformat_minor": 2
}
